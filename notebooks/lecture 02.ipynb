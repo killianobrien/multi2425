{
 "cells": [
  {
   "cell_type": "code",
   "execution_count": 1,
   "id": "1ce8d238-7468-41f3-a4e5-04153cfec1d9",
   "metadata": {},
   "outputs": [],
   "source": [
    "from sympy import *\n",
    "from sympy.plotting import *"
   ]
  },
  {
   "cell_type": "code",
   "execution_count": 3,
   "id": "1b6535c1-0930-4282-ba18-cc8b29c27f77",
   "metadata": {},
   "outputs": [],
   "source": [
    "x,y,z,s,t = symbols('x y z s t')"
   ]
  },
  {
   "cell_type": "code",
   "execution_count": 8,
   "id": "00474bf0",
   "metadata": {},
   "outputs": [],
   "source": [
    "x=s-t\n",
    "y=s+t"
   ]
  },
  {
   "cell_type": "code",
   "execution_count": null,
   "id": "1f278204",
   "metadata": {},
   "outputs": [],
   "source": []
  }
 ],
 "metadata": {
  "kernelspec": {
   "display_name": "Python 3 (ipykernel)",
   "language": "python",
   "name": "python3"
  },
  "language_info": {
   "codemirror_mode": {
    "name": "ipython",
    "version": 3
   },
   "file_extension": ".py",
   "mimetype": "text/x-python",
   "name": "python",
   "nbconvert_exporter": "python",
   "pygments_lexer": "ipython3",
   "version": "3.12.4"
  }
 },
 "nbformat": 4,
 "nbformat_minor": 5
}
