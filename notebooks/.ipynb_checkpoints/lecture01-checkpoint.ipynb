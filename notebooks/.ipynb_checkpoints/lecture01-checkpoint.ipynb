{
 "cells": [
  {
   "cell_type": "markdown",
   "id": "8cd6535e-6674-463a-b3f4-3d1d168be120",
   "metadata": {},
   "source": [
    "# Partial differentiation examples\n",
    "## Multi-Variable Calculus Analytical Methods (6G5Z3011_2425)\n",
    "### Killian O'Brien"
   ]
  },
  {
   "cell_type": "markdown",
   "id": "48e90923-5656-4b84-82d0-1bb18fce23f3",
   "metadata": {},
   "source": [
    "#### The Sympy package\n",
    "\n",
    "[Sympy](https://www.sympy.org/en/index.html) is a Python library for doing symbolic mathematics. We will use it to work with symbolic expressions and use its `diff` command to take partial derivatives. You can read more about Sympy by following the link above or going straight to its [documentation site](https://docs.sympy.org/latest/index.html) for tutorials, and manuals, and instructions for how to install it on your own machine."
   ]
  },
  {
   "cell_type": "code",
   "execution_count": 1,
   "id": "1ce8d238-7468-41f3-a4e5-04153cfec1d9",
   "metadata": {},
   "outputs": [],
   "source": [
    "from sympy import *\n",
    "from sympy.plotting import *"
   ]
  },
  {
   "cell_type": "code",
   "execution_count": 26,
   "id": "1b6535c1-0930-4282-ba18-cc8b29c27f77",
   "metadata": {},
   "outputs": [],
   "source": [
    "x,y,z = symbols('x y z')"
   ]
  },
  {
   "cell_type": "markdown",
   "id": "036c2b20-63a2-40dd-9820-7bdf4bdf8b8d",
   "metadata": {},
   "source": [
    "#### Basic usage of `diff`"
   ]
  },
  {
   "cell_type": "code",
   "execution_count": 27,
   "id": "82d8b97b-07be-4f0b-8e3d-1faebb42ac77",
   "metadata": {},
   "outputs": [
    {
     "data": {
      "text/latex": [
       "$\\displaystyle \\frac{1}{\\sqrt{x^{2} + y^{2} + z^{2}}}$"
      ],
      "text/plain": [
       "1/sqrt(x**2 + y**2 + z**2)"
      ]
     },
     "execution_count": 27,
     "metadata": {},
     "output_type": "execute_result"
    }
   ],
   "source": [
    "f = 1/(sqrt(x**2+y**2+z**2))\n",
    "f"
   ]
  },
  {
   "cell_type": "code",
   "execution_count": 28,
   "id": "e6b4ee3a-2b09-4908-854c-9c68fc3991e8",
   "metadata": {},
   "outputs": [
    {
     "data": {
      "text/latex": [
       "$\\displaystyle - \\frac{x}{\\left(x^{2} + y^{2} + z^{2}\\right)^{\\frac{3}{2}}}$"
      ],
      "text/plain": [
       "-x/(x**2 + y**2 + z**2)**(3/2)"
      ]
     },
     "execution_count": 28,
     "metadata": {},
     "output_type": "execute_result"
    }
   ],
   "source": [
    "fx = diff(f,x)\n",
    "fx"
   ]
  },
  {
   "cell_type": "code",
   "execution_count": null,
   "id": "90fc4947",
   "metadata": {},
   "outputs": [],
   "source": []
  }
 ],
 "metadata": {
  "kernelspec": {
   "display_name": "Python 3 (ipykernel)",
   "language": "python",
   "name": "python3"
  },
  "language_info": {
   "codemirror_mode": {
    "name": "ipython",
    "version": 3
   },
   "file_extension": ".py",
   "mimetype": "text/x-python",
   "name": "python",
   "nbconvert_exporter": "python",
   "pygments_lexer": "ipython3",
   "version": "3.10.12"
  }
 },
 "nbformat": 4,
 "nbformat_minor": 5
}
