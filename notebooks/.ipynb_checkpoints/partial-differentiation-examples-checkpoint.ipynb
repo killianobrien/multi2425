{
 "cells": [
  {
   "cell_type": "markdown",
   "id": "8cd6535e-6674-463a-b3f4-3d1d168be120",
   "metadata": {},
   "source": [
    "# Partial differentiation examples\n",
    "## Multi-Variable Calculus Analytical Methods (6G5Z3011_2425)\n",
    "### Killian O'Brien"
   ]
  },
  {
   "cell_type": "markdown",
   "id": "48e90923-5656-4b84-82d0-1bb18fce23f3",
   "metadata": {},
   "source": [
    "#### The Sympy package\n",
    "\n",
    "[Sympy](https://www.sympy.org/en/index.html) is a Python library for doing symbolic mathematics. We will use it to work with symbolic expressions and use its `diff` command to take partial derivatives. You can read more about Sympy by following the link above or going straight to its [documentation site](https://docs.sympy.org/latest/index.html) for tutorials, and manuals, and instructions for how to install it on your own machine."
   ]
  },
  {
   "cell_type": "code",
   "execution_count": 3,
   "id": "1ce8d238-7468-41f3-a4e5-04153cfec1d9",
   "metadata": {},
   "outputs": [],
   "source": [
    "from sympy import *\n",
    "from sympy.plotting import *"
   ]
  },
  {
   "cell_type": "code",
   "execution_count": 4,
   "id": "1b6535c1-0930-4282-ba18-cc8b29c27f77",
   "metadata": {},
   "outputs": [],
   "source": [
    "x,y,z = symbols('x y z')"
   ]
  },
  {
   "cell_type": "markdown",
   "id": "036c2b20-63a2-40dd-9820-7bdf4bdf8b8d",
   "metadata": {},
   "source": [
    "#### Q4 "
   ]
  },
  {
   "cell_type": "code",
   "execution_count": 20,
   "id": "82d8b97b-07be-4f0b-8e3d-1faebb42ac77",
   "metadata": {},
   "outputs": [
    {
     "data": {
      "text/latex": [
       "$\\displaystyle \\frac{1}{\\sqrt{x^{2} + y^{2}}}$"
      ],
      "text/plain": [
       "1/sqrt(x**2 + y**2)"
      ]
     },
     "execution_count": 20,
     "metadata": {},
     "output_type": "execute_result"
    }
   ],
   "source": [
    "f = 1/(sqrt(x**2+y**2))\n",
    "f"
   ]
  },
  {
   "cell_type": "code",
   "execution_count": 21,
   "id": "e6b4ee3a-2b09-4908-854c-9c68fc3991e8",
   "metadata": {},
   "outputs": [
    {
     "data": {
      "text/latex": [
       "$\\displaystyle - \\frac{x}{\\left(x^{2} + y^{2}\\right)^{\\frac{3}{2}}}$"
      ],
      "text/plain": [
       "-x/(x**2 + y**2)**(3/2)"
      ]
     },
     "execution_count": 21,
     "metadata": {},
     "output_type": "execute_result"
    }
   ],
   "source": [
    "fx = diff(f,x)\n",
    "fx"
   ]
  },
  {
   "cell_type": "code",
   "execution_count": 22,
   "id": "8f3a9003-c1e9-432b-be6c-056540887112",
   "metadata": {},
   "outputs": [
    {
     "data": {
      "text/latex": [
       "$\\displaystyle - \\frac{y}{\\left(x^{2} + y^{2}\\right)^{\\frac{3}{2}}}$"
      ],
      "text/plain": [
       "-y/(x**2 + y**2)**(3/2)"
      ]
     },
     "execution_count": 22,
     "metadata": {},
     "output_type": "execute_result"
    }
   ],
   "source": [
    "fy = diff(f,y)\n",
    "fy"
   ]
  },
  {
   "cell_type": "code",
   "execution_count": 23,
   "id": "1043f7d9-0caa-43cb-9365-98f30378f1eb",
   "metadata": {},
   "outputs": [
    {
     "data": {
      "text/latex": [
       "$\\displaystyle \\frac{3}{125}$"
      ],
      "text/plain": [
       "3/125"
      ]
     },
     "execution_count": 23,
     "metadata": {},
     "output_type": "execute_result"
    }
   ],
   "source": [
    "fx.subs({x:-3,y:4})"
   ]
  },
  {
   "cell_type": "markdown",
   "id": "1131348a-68fc-4b89-a826-0d1599af0811",
   "metadata": {},
   "source": [
    "#### Q5"
   ]
  },
  {
   "cell_type": "code",
   "execution_count": 28,
   "id": "b819dc11-7b1a-4075-8e4a-b776e0f4e50d",
   "metadata": {},
   "outputs": [
    {
     "data": {
      "text/latex": [
       "$\\displaystyle \\frac{x + y}{x - y}$"
      ],
      "text/plain": [
       "(x + y)/(x - y)"
      ]
     },
     "execution_count": 28,
     "metadata": {},
     "output_type": "execute_result"
    }
   ],
   "source": [
    "z = (x+y)/(x-y)\n",
    "z"
   ]
  },
  {
   "cell_type": "code",
   "execution_count": 29,
   "id": "3f2d2229-de02-4928-91b2-ec7f390d0965",
   "metadata": {},
   "outputs": [
    {
     "data": {
      "text/latex": [
       "$\\displaystyle \\frac{1}{x - y} - \\frac{x + y}{\\left(x - y\\right)^{2}}$"
      ],
      "text/plain": [
       "1/(x - y) - (x + y)/(x - y)**2"
      ]
     },
     "execution_count": 29,
     "metadata": {},
     "output_type": "execute_result"
    }
   ],
   "source": [
    "zx = diff(z,x)\n",
    "zx"
   ]
  },
  {
   "cell_type": "code",
   "execution_count": 30,
   "id": "6c93427f-656e-4a83-9ec3-9b032dd88e35",
   "metadata": {},
   "outputs": [
    {
     "data": {
      "text/latex": [
       "$\\displaystyle - \\frac{2 y}{\\left(x - y\\right)^{2}}$"
      ],
      "text/plain": [
       "-2*y/(x - y)**2"
      ]
     },
     "execution_count": 30,
     "metadata": {},
     "output_type": "execute_result"
    }
   ],
   "source": [
    "simplify(zx)"
   ]
  },
  {
   "cell_type": "code",
   "execution_count": 31,
   "id": "d79c709a-4ef6-4bd2-9c85-4c66199c6c7f",
   "metadata": {},
   "outputs": [
    {
     "data": {
      "text/latex": [
       "$\\displaystyle \\frac{1}{x - y} + \\frac{x + y}{\\left(x - y\\right)^{2}}$"
      ],
      "text/plain": [
       "1/(x - y) + (x + y)/(x - y)**2"
      ]
     },
     "execution_count": 31,
     "metadata": {},
     "output_type": "execute_result"
    }
   ],
   "source": [
    "zy = diff(z,y)\n",
    "zy"
   ]
  },
  {
   "cell_type": "code",
   "execution_count": 32,
   "id": "0fa298c3-84c9-4e23-abdd-b0b34125cc37",
   "metadata": {},
   "outputs": [
    {
     "data": {
      "text/latex": [
       "$\\displaystyle \\frac{2 x}{\\left(x - y\\right)^{2}}$"
      ],
      "text/plain": [
       "2*x/(x - y)**2"
      ]
     },
     "execution_count": 32,
     "metadata": {},
     "output_type": "execute_result"
    }
   ],
   "source": [
    "simplify(zy)"
   ]
  },
  {
   "cell_type": "code",
   "execution_count": 36,
   "id": "6a9be4d7-3980-473d-a96d-676a5885e816",
   "metadata": {},
   "outputs": [
    {
     "data": {
      "text/latex": [
       "$\\displaystyle 0$"
      ],
      "text/plain": [
       "0"
      ]
     },
     "execution_count": 36,
     "metadata": {},
     "output_type": "execute_result"
    }
   ],
   "source": [
    "simplify(x*zx + y*zy)"
   ]
  },
  {
   "cell_type": "code",
   "execution_count": null,
   "id": "2560cfad-db9b-4c62-a82b-0ddf8d1a4c4b",
   "metadata": {},
   "outputs": [],
   "source": []
  }
 ],
 "metadata": {
  "kernelspec": {
   "display_name": "Python 3 (ipykernel)",
   "language": "python",
   "name": "python3"
  },
  "language_info": {
   "codemirror_mode": {
    "name": "ipython",
    "version": 3
   },
   "file_extension": ".py",
   "mimetype": "text/x-python",
   "name": "python",
   "nbconvert_exporter": "python",
   "pygments_lexer": "ipython3",
   "version": "3.10.12"
  }
 },
 "nbformat": 4,
 "nbformat_minor": 5
}
