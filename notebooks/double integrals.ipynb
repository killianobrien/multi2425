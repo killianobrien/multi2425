{
 "cells": [
  {
   "cell_type": "code",
   "execution_count": 3,
   "id": "6f580365-1bc9-4cc0-9870-f7781c5e8407",
   "metadata": {},
   "outputs": [],
   "source": [
    "from sympy import *"
   ]
  },
  {
   "cell_type": "code",
   "execution_count": 8,
   "id": "8500183b-5cb1-4511-bf02-98409bcfdc30",
   "metadata": {},
   "outputs": [],
   "source": [
    "x,y,z,a,b = symbols('x y z a b', real=True)"
   ]
  },
  {
   "cell_type": "markdown",
   "id": "300a0c85-47a9-42cd-bf07-c8adfc00be8b",
   "metadata": {},
   "source": [
    "### Q3 (c)"
   ]
  },
  {
   "cell_type": "code",
   "execution_count": 6,
   "id": "f5ba5ee0-1665-4649-96a5-93be8310c223",
   "metadata": {},
   "outputs": [
    {
     "data": {
      "text/latex": [
       "$\\displaystyle \\frac{x^{\\frac{5}{2}}}{3} - \\frac{x^{7}}{3}$"
      ],
      "text/plain": [
       "x**(5/2)/3 - x**7/3"
      ]
     },
     "execution_count": 6,
     "metadata": {},
     "output_type": "execute_result"
    }
   ],
   "source": [
    "J = integrate(x*y**2,(y,x**2,sqrt(x)))\n",
    "J"
   ]
  },
  {
   "cell_type": "code",
   "execution_count": 7,
   "id": "5bf3c33d-03ae-4a44-9dee-f9855cce6393",
   "metadata": {},
   "outputs": [
    {
     "data": {
      "text/latex": [
       "$\\displaystyle \\frac{3}{56}$"
      ],
      "text/plain": [
       "3/56"
      ]
     },
     "execution_count": 7,
     "metadata": {},
     "output_type": "execute_result"
    }
   ],
   "source": [
    "I = integrate(J,(x,0,1))\n",
    "I"
   ]
  },
  {
   "cell_type": "markdown",
   "id": "49166e54-35f2-4f5c-ab6e-d6d2f75b87ad",
   "metadata": {},
   "source": [
    "### Q3 (a)"
   ]
  },
  {
   "cell_type": "code",
   "execution_count": 9,
   "id": "c59d298c-2e4f-4be1-b934-6ed321309245",
   "metadata": {},
   "outputs": [
    {
     "data": {
      "text/latex": [
       "$\\displaystyle \\frac{a^{3}}{3} + a y^{2}$"
      ],
      "text/plain": [
       "a**3/3 + a*y**2"
      ]
     },
     "execution_count": 9,
     "metadata": {},
     "output_type": "execute_result"
    }
   ],
   "source": [
    "I = integrate(x**2 + y**2,(x,0,a))\n",
    "I"
   ]
  },
  {
   "cell_type": "code",
   "execution_count": 10,
   "id": "69fa64fa-8138-4555-b063-634627628ab9",
   "metadata": {},
   "outputs": [
    {
     "data": {
      "text/latex": [
       "$\\displaystyle \\frac{a^{3} b}{3} + \\frac{a b^{3}}{3}$"
      ],
      "text/plain": [
       "a**3*b/3 + a*b**3/3"
      ]
     },
     "execution_count": 10,
     "metadata": {},
     "output_type": "execute_result"
    }
   ],
   "source": [
    "J = integrate(I,(y,0,b))\n",
    "J"
   ]
  },
  {
   "cell_type": "markdown",
   "id": "cb2219af-8eef-4c9e-9cab-5f6dc9811f8f",
   "metadata": {},
   "source": [
    "### Q4 (b)"
   ]
  },
  {
   "cell_type": "code",
   "execution_count": 11,
   "id": "1d735873-10b5-460c-bca8-15205c74ba55",
   "metadata": {},
   "outputs": [
    {
     "data": {
      "text/latex": [
       "$\\displaystyle \\frac{8}{3}$"
      ],
      "text/plain": [
       "8/3"
      ]
     },
     "execution_count": 11,
     "metadata": {},
     "output_type": "execute_result"
    }
   ],
   "source": [
    "I = integrate(integrate(y,(x,-sqrt(4 - 2*y**2),sqrt(4 - 2*y**2))),(y,0,sqrt(2)))\n",
    "I"
   ]
  },
  {
   "cell_type": "code",
   "execution_count": null,
   "id": "2dbfd94c-c12f-4e4d-ac5d-531eaf5d17eb",
   "metadata": {},
   "outputs": [],
   "source": []
  }
 ],
 "metadata": {
  "kernelspec": {
   "display_name": "Python 3 (ipykernel)",
   "language": "python",
   "name": "python3"
  },
  "language_info": {
   "codemirror_mode": {
    "name": "ipython",
    "version": 3
   },
   "file_extension": ".py",
   "mimetype": "text/x-python",
   "name": "python",
   "nbconvert_exporter": "python",
   "pygments_lexer": "ipython3",
   "version": "3.12.4"
  }
 },
 "nbformat": 4,
 "nbformat_minor": 5
}
