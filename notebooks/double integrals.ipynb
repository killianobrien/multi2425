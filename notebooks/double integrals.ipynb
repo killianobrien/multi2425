{
 "cells": [
  {
   "cell_type": "code",
   "execution_count": 5,
   "id": "6f580365-1bc9-4cc0-9870-f7781c5e8407",
   "metadata": {},
   "outputs": [],
   "source": [
    "from sympy import *"
   ]
  },
  {
   "cell_type": "code",
   "execution_count": 6,
   "id": "8500183b-5cb1-4511-bf02-98409bcfdc30",
   "metadata": {},
   "outputs": [],
   "source": [
    "x,y,z,a,b = symbols('x y z a b', real=True)"
   ]
  },
  {
   "cell_type": "markdown",
   "id": "49166e54-35f2-4f5c-ab6e-d6d2f75b87ad",
   "metadata": {},
   "source": [
    "### Q3 (c)"
   ]
  },
  {
   "cell_type": "code",
   "execution_count": 7,
   "id": "99de307d",
   "metadata": {},
   "outputs": [
    {
     "data": {
      "text/latex": [
       "$\\displaystyle \\frac{x^{\\frac{5}{2}}}{3} - \\frac{x^{7}}{3}$"
      ],
      "text/plain": [
       "x**(5/2)/3 - x**7/3"
      ]
     },
     "execution_count": 7,
     "metadata": {},
     "output_type": "execute_result"
    }
   ],
   "source": [
    "inner = integrate(x*y**2, (y,x**2, sqrt(x)))\n",
    "inner"
   ]
  },
  {
   "cell_type": "code",
   "execution_count": 8,
   "id": "f3f39cf8",
   "metadata": {},
   "outputs": [
    {
     "data": {
      "text/latex": [
       "$\\displaystyle \\frac{3}{56}$"
      ],
      "text/plain": [
       "3/56"
      ]
     },
     "execution_count": 8,
     "metadata": {},
     "output_type": "execute_result"
    }
   ],
   "source": [
    "V = integrate(inner, (x,0,1))\n",
    "V"
   ]
  },
  {
   "cell_type": "code",
   "execution_count": null,
   "id": "09644ff4",
   "metadata": {},
   "outputs": [],
   "source": []
  }
 ],
 "metadata": {
  "kernelspec": {
   "display_name": "Python 3 (ipykernel)",
   "language": "python",
   "name": "python3"
  },
  "language_info": {
   "codemirror_mode": {
    "name": "ipython",
    "version": 3
   },
   "file_extension": ".py",
   "mimetype": "text/x-python",
   "name": "python",
   "nbconvert_exporter": "python",
   "pygments_lexer": "ipython3",
   "version": "3.10.12"
  }
 },
 "nbformat": 4,
 "nbformat_minor": 5
}
